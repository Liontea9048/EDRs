{
 "cells": [
  {
   "cell_type": "code",
   "execution_count": 53,
   "metadata": {},
   "outputs": [],
   "source": [
    "import numpy as np\n",
    "import matplotlib.pyplot as plt\n",
    "import pandas as pd\n",
    "import pickle\n",
    "import natsort\n",
    "import os\n",
    "from scipy.optimize import curve_fit\n",
    "from datetime import date\n",
    "import re"
   ]
  },
  {
   "cell_type": "code",
   "execution_count": 55,
   "metadata": {},
   "outputs": [],
   "source": [
    "today = date.today()\n",
    "filePath = \"../../data_source/data/sonde/resultEffDose/2022-09-10\"\n",
    "file = os.path.join(filePath, natsort.natsorted(os.listdir(filePath))[-1])"
   ]
  },
  {
   "cell_type": "code",
   "execution_count": 56,
   "metadata": {},
   "outputs": [],
   "source": [
    "regex = re.compile(\"-*\\d+_\\d+\")\n",
    "# regexValue = re.compile(\"\\d*e\\d*\\sSv/source\\s\\d*e*\\d\")\n",
    "regexValue = re.compile(\".*\\sSv/source\\s.*\")\n",
    "\n",
    "cases = []\n",
    "values = []\n",
    "with open(file, \"r\") as f:\n",
    "    lines = f.readlines()\n",
    "    for line in lines:\n",
    "        case = regex.search(line)\n",
    "        value = regexValue.search(line)\n",
    "        if case:\n",
    "            # print(case.group(0))\n",
    "            cases.append(case.group(0))\n",
    "        if value:\n",
    "            avgEff = value.group(0).split()[0]\n",
    "            avgEffRelErr = value.group(0).split()[2]\n",
    "            # print(value.group(0).split())\n",
    "            values.append((avgEff, avgEffRelErr))"
   ]
  },
  {
   "cell_type": "code",
   "execution_count": 57,
   "metadata": {},
   "outputs": [],
   "source": [
    "data = zip(cases, values)"
   ]
  },
  {
   "cell_type": "code",
   "execution_count": 58,
   "metadata": {},
   "outputs": [],
   "source": [
    "# for pair in data:\n",
    "#     print(pair)"
   ]
  },
  {
   "cell_type": "code",
   "execution_count": 59,
   "metadata": {},
   "outputs": [],
   "source": [
    "activity = 3 # Ci\n",
    "neutrons_per_decay = 2.4 * 10**6 # 2,400,000 neutrons per 1 Ci of Americium-241\n",
    "to_micro_Sv = 1.e6 # Sv to microSv"
   ]
  },
  {
   "cell_type": "code",
   "execution_count": 60,
   "metadata": {},
   "outputs": [],
   "source": [
    "df = dict()\n",
    "\n",
    "for d in data:\n",
    "    case = d[0]\n",
    "    position = d[0].split(\"_\")[0]\n",
    "    yDistance = d[0].split(\"_\")[1]\n",
    "    EDR = float(d[1][0]) * activity * neutrons_per_decay * to_micro_Sv\n",
    "    RelErr = float(d[1][1])\n",
    "    df[case] = (position, yDistance, EDR, RelErr)\n",
    "\n",
    "df = pd.DataFrame(df)"
   ]
  },
  {
   "cell_type": "code",
   "execution_count": 61,
   "metadata": {},
   "outputs": [],
   "source": [
    "# Transpose the DataFrame\n",
    "df = df.T"
   ]
  },
  {
   "cell_type": "code",
   "execution_count": 62,
   "metadata": {},
   "outputs": [],
   "source": [
    "# set the columns in proper names\n",
    "df.columns = ([\"Position\", \"yDistance\", \"EDR\", \"RelErr\"])"
   ]
  },
  {
   "cell_type": "code",
   "execution_count": 63,
   "metadata": {},
   "outputs": [
    {
     "data": {
      "text/html": [
       "<div>\n",
       "<style scoped>\n",
       "    .dataframe tbody tr th:only-of-type {\n",
       "        vertical-align: middle;\n",
       "    }\n",
       "\n",
       "    .dataframe tbody tr th {\n",
       "        vertical-align: top;\n",
       "    }\n",
       "\n",
       "    .dataframe thead th {\n",
       "        text-align: right;\n",
       "    }\n",
       "</style>\n",
       "<table border=\"1\" class=\"dataframe\">\n",
       "  <thead>\n",
       "    <tr style=\"text-align: right;\">\n",
       "      <th></th>\n",
       "      <th>Position</th>\n",
       "      <th>yDistance</th>\n",
       "      <th>EDR</th>\n",
       "      <th>RelErr</th>\n",
       "    </tr>\n",
       "  </thead>\n",
       "  <tbody>\n",
       "    <tr>\n",
       "      <th>20_200</th>\n",
       "      <td>20</td>\n",
       "      <td>200</td>\n",
       "      <td>0.037472</td>\n",
       "      <td>0.037400</td>\n",
       "    </tr>\n",
       "    <tr>\n",
       "      <th>20_190</th>\n",
       "      <td>20</td>\n",
       "      <td>190</td>\n",
       "      <td>0.040239</td>\n",
       "      <td>0.033859</td>\n",
       "    </tr>\n",
       "    <tr>\n",
       "      <th>20_180</th>\n",
       "      <td>20</td>\n",
       "      <td>180</td>\n",
       "      <td>0.040228</td>\n",
       "      <td>0.028138</td>\n",
       "    </tr>\n",
       "    <tr>\n",
       "      <th>20_170</th>\n",
       "      <td>20</td>\n",
       "      <td>170</td>\n",
       "      <td>0.041622</td>\n",
       "      <td>0.033216</td>\n",
       "    </tr>\n",
       "    <tr>\n",
       "      <th>20_160</th>\n",
       "      <td>20</td>\n",
       "      <td>160</td>\n",
       "      <td>0.051186</td>\n",
       "      <td>0.035474</td>\n",
       "    </tr>\n",
       "  </tbody>\n",
       "</table>\n",
       "</div>"
      ],
      "text/plain": [
       "        Position  yDistance       EDR    RelErr\n",
       "20_200        20        200  0.037472  0.037400\n",
       "20_190        20        190  0.040239  0.033859\n",
       "20_180        20        180  0.040228  0.028138\n",
       "20_170        20        170  0.041622  0.033216\n",
       "20_160        20        160  0.051186  0.035474"
      ]
     },
     "execution_count": 63,
     "metadata": {},
     "output_type": "execute_result"
    }
   ],
   "source": [
    "# change from str(object type) to int64 type\n",
    "df[\"yDistance\"] = pd.to_numeric(df[\"yDistance\"])\n",
    "df[\"Position\"] = pd.to_numeric(df[\"Position\"])\n",
    "df[\"EDR\"] = pd.to_numeric(df[\"EDR\"])\n",
    "df[\"RelErr\"] = pd.to_numeric(df[\"RelErr\"])\n",
    "df.head(5)"
   ]
  },
  {
   "cell_type": "code",
   "execution_count": 64,
   "metadata": {},
   "outputs": [],
   "source": [
    "# Plotting?\n",
    "x = df[\"yDistance\"].values\n",
    "y = df[\"EDR\"].values\n",
    "yerr = df[\"RelErr\"].values * y"
   ]
  },
  {
   "cell_type": "code",
   "execution_count": 65,
   "metadata": {},
   "outputs": [
    {
     "data": {
      "text/plain": [
       "(array([100., 120., 140., 160., 180., 200., 220.]),\n",
       " [Text(0, 0, ''),\n",
       "  Text(0, 0, ''),\n",
       "  Text(0, 0, ''),\n",
       "  Text(0, 0, ''),\n",
       "  Text(0, 0, ''),\n",
       "  Text(0, 0, ''),\n",
       "  Text(0, 0, '')])"
      ]
     },
     "execution_count": 65,
     "metadata": {},
     "output_type": "execute_result"
    },
    {
     "data": {
      "image/png": "[encoded data removed]",
      "text/plain": [
       "<Figure size 432x288 with 1 Axes>"
      ]
     },
     "metadata": {
      "needs_background": "light"
     },
     "output_type": "display_data"
    }
   ],
   "source": [
    "# divide into 100 and -30 case\n",
    "### for -30 cm case\n",
    "length = int(len(x) * 0.5)\n",
    "newx = x[:length]\n",
    "newy = y[:length]\n",
    "newyerr = yerr[:length]\n",
    "\n",
    "plt.errorbar(x=newx, y=newy, yerr=newyerr, fmt = \"o\")\n",
    "plt.grid(alpha=0.7, color=\"grey\")\n",
    "plt.xlabel(\"Position of Phantoms along the Y axis (cm)\")\n",
    "plt.ylabel(\"EDR For each position of the Pahtnoms (\\u03BCSv/s)\")\n",
    "plt.title(\"EDRs for each position of the sonde for -30 cm\")\n",
    "plt.xticks(fontsize=20)"
   ]
  },
  {
   "cell_type": "code",
   "execution_count": 66,
   "metadata": {},
   "outputs": [
    {
     "data": {
      "text/plain": [
       "Text(0.5, 1.0, 'EDRs for each position of the sonde for 100 cm')"
      ]
     },
     "execution_count": 66,
     "metadata": {},
     "output_type": "execute_result"
    },
    {
     "data": {
      "image/png": "[encoded data removed]",
      "text/plain": [
       "<Figure size 432x288 with 1 Axes>"
      ]
     },
     "metadata": {
      "needs_background": "light"
     },
     "output_type": "display_data"
    }
   ],
   "source": [
    "### for 100 cm case\n",
    "length = int(len(x) * 0.5)\n",
    "newx = x[length:]\n",
    "newy = y[length:]\n",
    "newyerr = yerr[length:]\n",
    "\n",
    "plt.errorbar(x=newx, y=newy, yerr=newyerr, fmt = \"o\")\n",
    "plt.grid(alpha=0.7, color=\"grey\")\n",
    "plt.xlabel(\"Position of Phantoms along the Y axis (cm)\")\n",
    "plt.ylabel(\"EDR For each position of the Pahtnoms (\\u03BCSv/s)\")\n",
    "plt.title(\"EDRs for each position of the sonde for 100 cm\")"
   ]
  },
  {
   "cell_type": "code",
   "execution_count": 42,
   "metadata": {},
   "outputs": [
    {
     "data": {
      "text/plain": [
       "array([200, 190, 180, 170, 160, 150, 140, 130, 120, 110, 100,  90,  80,\n",
       "        70,  60,  50,  40,  30,  20,  10,   0, 200, 190, 180, 170, 160,\n",
       "       150, 140, 130, 120, 110, 100,  90,  80,  70,  60,  50,  40,  30,\n",
       "        20,  10,   0])"
      ]
     },
     "execution_count": 42,
     "metadata": {},
     "output_type": "execute_result"
    }
   ],
   "source": [
    "# divide into 100 and -30 case\n",
    "### for all points\n",
    "length = len(x)\n",
    "newx = x[:length]\n",
    "newy = y[:length]\n",
    "newyerr = yerr[:length]\n",
    "\n",
    "plt.errorbar(x=newx, y=newy, yerr=newyerr, fmt = \"o\")\n",
    "plt.grid(alpha=0.7, color=\"grey\")\n",
    "plt.xlabel(\"Position of Phantoms along the Y axis (cm)\")\n",
    "plt.ylabel(\"EDR For each position of the Pahtnoms (\\u03BCSv/s)\")\n",
    "plt.title(\"EDRs for each position of the sonde for -30 cm\")\n",
    "plt.xticks(fontsize=20)"
   ]
  },
  {
   "cell_type": "code",
   "execution_count": null,
   "metadata": {},
   "outputs": [],
   "source": []
  }
 ],
 "metadata": {
  "kernelspec": {
   "display_name": "Python 3.9.11 ('data_process')",
   "language": "python",
   "name": "python3"
  },
  "language_info": {
   "codemirror_mode": {
    "name": "ipython",
    "version": 3
   },
   "file_extension": ".py",
   "mimetype": "text/x-python",
   "name": "python",
   "nbconvert_exporter": "python",
   "pygments_lexer": "ipython3",
   "version": "3.9.11"
  },
  "orig_nbformat": 4,
  "vscode": {
   "interpreter": {
    "hash": "dfd2a5afecea685298f8d29aea0ff5e7f3ac8235db3b49ae1636aa5994e0e9c4"
   }
  }
 },
 "nbformat": 4,
 "nbformat_minor": 2
}
