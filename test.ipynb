{
 "cells": [
  {
   "cell_type": "code",
   "execution_count": 1,
   "metadata": {},
   "outputs": [],
   "source": [
    "import EDRs_pkg.Root as root\n",
    "import EDRs_pkg.Data as data\n",
    "import EDRs_pkg.Fitting as ft"
   ]
  },
  {
   "cell_type": "code",
   "execution_count": 2,
   "metadata": {},
   "outputs": [],
   "source": [
    "Root = root.System()\n",
    "Root.setDataDir(\"/Users/liontea/Library/CloudStorage/OneDrive-SNU/연구데이터/MRCP_data/data_process/data_source/data/sonde/\")\n",
    "Root.getDataDir()\n",
    "filePath = Root.getDataDir()"
   ]
  },
  {
   "cell_type": "code",
   "execution_count": 3,
   "metadata": {},
   "outputs": [],
   "source": [
    "# Load code results\n",
    "G4Data = data.MonteCarloData(filePath = filePath, codeType = \"geant4\")\n",
    "G4Data.readData()\n",
    "\n",
    "M6Data = data.MonteCarloData(filePath = filePath, codeType = \"mcnp6\")\n",
    "M6Data.readData(isCombined=False)\n",
    "\n",
    "PHITSData = data.MonteCarloData(filePath = filePath, codeType = \"phits\")\n",
    "PHITSData.readData(isCombined=False)\n",
    "\n",
    "Root.addCodeData(G4Data, M6Data, PHITSData)"
   ]
  },
  {
   "cell_type": "code",
   "execution_count": 4,
   "metadata": {},
   "outputs": [],
   "source": [
    "# set position List \n",
    "positionList = [100, 90, 80, 70, 60, 50, 40, 30, 20, 10, 7, 5, 3, 0, -10, -20, \\\n",
    "    -30, -40, -50, -60, -70, -80, -90, -100, -110, -120, -130, -140, -150]\n",
    "postureList = [\"op\", \"sp\", \"sq\", \"bd\"]\n",
    "Root.setPositionList(positionList)\n",
    "Root.setPostureList(postureList)"
   ]
  },
  {
   "cell_type": "code",
   "execution_count": 5,
   "metadata": {},
   "outputs": [
    {
     "name": "stdout",
     "output_type": "stream",
     "text": [
      "/Users/liontea/Library/CloudStorage/OneDrive-SNU/연구데이터/MRCP_data/data_process/data_source/load_data/eff_tissue_IDs.inp\n"
     ]
    }
   ],
   "source": [
    "# Load Tissue weighting factor data\n",
    "fTWFPath = \"/Users/liontea/Library/CloudStorage/OneDrive-SNU/연구데이터/MRCP_data/data_process/data_source/load_data/eff_tissue_IDs.inp\"\n",
    "TWF = data.SupplementaryData(filePath = fTWFPath, codeType = \"TWF\")"
   ]
  },
  {
   "cell_type": "code",
   "execution_count": 6,
   "metadata": {},
   "outputs": [],
   "source": [
    "Root.addSupplementalData(TWF)"
   ]
  },
  {
   "cell_type": "code",
   "execution_count": 7,
   "metadata": {},
   "outputs": [
    {
     "name": "stderr",
     "output_type": "stream",
     "text": [
      "/Users/liontea/miniconda3/envs/data_process/lib/python3.9/site-packages/pandas/core/frame.py:4906: SettingWithCopyWarning: \n",
      "A value is trying to be set on a copy of a slice from a DataFrame\n",
      "\n",
      "See the caveats in the documentation: https://pandas.pydata.org/pandas-docs/stable/user_guide/indexing.html#returning-a-view-versus-a-copy\n",
      "  return super().drop(\n"
     ]
    }
   ],
   "source": [
    "Root.calcEffectiveDose()\n",
    "# Root.writeEffDose()\n",
    "# Root.writeOrganEffDose()\n",
    "Root.computeEDR()\n",
    "Root.computeOrganEDR()"
   ]
  },
  {
   "cell_type": "code",
   "execution_count": 8,
   "metadata": {},
   "outputs": [],
   "source": [
    "# a = G4Data.getDF_EDRs(\"op\")\n",
    "# b = G4Data.getDF_OrganContr(\"op\")\n",
    "\n",
    "# a = PHITSData.getDF_EDRs(\"op\")\n",
    "# b = PHITSData.getDF_OrganContr(\"op\")"
   ]
  },
  {
   "cell_type": "markdown",
   "metadata": {},
   "source": []
  },
  {
   "cell_type": "code",
   "execution_count": 9,
   "metadata": {},
   "outputs": [],
   "source": [
    "import numpy as np\n",
    "# Plotting\n",
    "fImagePath = \"/Users/liontea/Library/CloudStorage/OneDrive-SNU/연구데이터/MRCP_data/data_process/images/sonde\"\n",
    "# Root.init_plot(imageFolderPath = fImagePath)\n",
    "# Root.drawBasicFigures()\n",
    "\n",
    "# G4Data.init_plot(imageFolderPath= fImagePath)\n",
    "# G4Data.drawBasicFigures()\n",
    "# G4Data.drawErrorBar(posture=\"OP\", yscale = \"log\", isSave = False)\n",
    "# G4Data.saveFig(position=\"Total\")\n",
    "\n",
    "# M6Data.setX(M6Data.getX())\n",
    "# M6Data.setY(M6Data.getY())\n",
    "# M6Data.setYError(M6Data.getYErr())\n",
    "# M6Data.init_plot(imageFolderPath= fImagePath)\n",
    "# M6Data.drawErrorBar(posture=\"SQ\", yscale = \"log\", isSave = False)\n",
    "\n",
    "# PHITSData.init_plot(imageFolderPath= fImagePath)\n",
    "# PHITSData.drawErrorBar(posture=\"OP\", yscale = \"log\", isSave = False)"
   ]
  },
  {
   "cell_type": "code",
   "execution_count": 10,
   "metadata": {},
   "outputs": [],
   "source": [
    "# Root.drawCombinedFigures()"
   ]
  },
  {
   "cell_type": "code",
   "execution_count": 11,
   "metadata": {},
   "outputs": [],
   "source": [
    "fitTool = ft.Fitting()\n",
    "fitTool.addData(G4Data, M6Data, PHITSData)"
   ]
  },
  {
   "cell_type": "code",
   "execution_count": 12,
   "metadata": {},
   "outputs": [
    {
     "name": "stdout",
     "output_type": "stream",
     "text": [
      "op GEANT4\n",
      "6.113562548455081e-07 -2.6916116808964558e-05 0.0007190800405761557 0.03555861068894492 \t R^2:  0.9999251288503896\n",
      "op MCNP6\n",
      "1.2331613739913168e-07 3.2105200404961464e-05 -0.0009103392213837315 0.039692852357001554 \t R^2:  0.9993292250824539\n",
      "op PHITS\n",
      "2.892424990477779e-07 4.040123747341941e-06 0.00027069407615740046 0.025192910832688518 \t R^2:  0.9998576938792313\n",
      "sp GEANT4\n",
      "-3.8027110520890576e-08 5.120144630849097e-06 0.00043514155998035636 0.05649301572743136 \t R^2:  0.9994457455619563\n",
      "sp MCNP6\n",
      "-1.184317254558763e-09 6.449477156232188e-07 0.00039942025461256426 0.04399088224924389 \t R^2:  0.9941603165381667\n",
      "sp PHITS\n",
      "-2.2795645715528194e-08 4.0038562862068615e-06 0.00022612480922922678 0.04294229358773674 \t R^2:  0.9990494479158726\n",
      "sq GEANT4\n",
      "-2.2103695004823863e-07 4.192176725568224e-05 -5.926337600804739e-05 0.17565676337420535 \t R^2:  0.9999943143060583\n",
      "bd GEANT4\n",
      "5.977215603031598e-07 -2.9029029195758244e-05 0.0011750707634744454 0.07846568468361236 \t R^2:  0.9999882945669231\n",
      "op GEANT4\n",
      "[0.03716815 1.05617853] 0.9305538521166686\n",
      "op MCNP6\n",
      "[0.01841362 1.05905741] 0.9812481753379386\n",
      "op PHITS\n",
      "[0.01884422 1.06627114] 0.9665818821289284\n",
      "sp GEANT4\n",
      "[0.04375741 1.05805076] 0.9790259559006204\n",
      "sp MCNP6\n",
      "[0.02758442 1.0694679 ] 0.9648403922878214\n",
      "sp PHITS\n",
      "[0.02605504 1.07364937] 0.9487293333931047\n",
      "sq GEANT4\n",
      "[0.11609791 1.0608726 ] 0.9736713673538505\n",
      "bd GEANT4\n",
      "[0.07753261 1.0561629 ] 0.9547612687618299\n"
     ]
    }
   ],
   "source": [
    "fitTool.interpolate()"
   ]
  },
  {
   "cell_type": "code",
   "execution_count": 13,
   "metadata": {},
   "outputs": [
    {
     "ename": "AttributeError",
     "evalue": "module 'EDRs_pkg.Root' has no attribute 'exportCoef'",
     "output_type": "error",
     "traceback": [
      "\u001b[0;31m---------------------------------------------------------------------------\u001b[0m",
      "\u001b[0;31mAttributeError\u001b[0m                            Traceback (most recent call last)",
      "\u001b[1;32m/Users/liontea/Library/CloudStorage/OneDrive-SNU/연구데이터/MRCP_data/data_process/python_files/EDRs/test.ipynb Cell 14\u001b[0m in \u001b[0;36m<cell line: 1>\u001b[0;34m()\u001b[0m\n\u001b[0;32m----> <a href='vscode-notebook-cell:/Users/liontea/Library/CloudStorage/OneDrive-SNU/%E1%84%8B%E1%85%A7%E1%86%AB%E1%84%80%E1%85%AE%E1%84%83%E1%85%A6%E1%84%8B%E1%85%B5%E1%84%90%E1%85%A5/MRCP_data/data_process/python_files/EDRs/test.ipynb#X16sZmlsZQ%3D%3D?line=0'>1</a>\u001b[0m root\u001b[39m.\u001b[39;49mexportCoef(fitTool)\n",
      "\u001b[0;31mAttributeError\u001b[0m: module 'EDRs_pkg.Root' has no attribute 'exportCoef'"
     ]
    }
   ],
   "source": [
    "Root.exportCoef(fitTool)"
   ]
  },
  {
   "cell_type": "code",
   "execution_count": null,
   "metadata": {},
   "outputs": [],
   "source": []
  }
 ],
 "metadata": {
  "kernelspec": {
   "display_name": "Python 3.9.11 ('data_process')",
   "language": "python",
   "name": "python3"
  },
  "language_info": {
   "codemirror_mode": {
    "name": "ipython",
    "version": 3
   },
   "file_extension": ".py",
   "mimetype": "text/x-python",
   "name": "python",
   "nbconvert_exporter": "python",
   "pygments_lexer": "ipython3",
   "version": "3.9.11"
  },
  "orig_nbformat": 4,
  "vscode": {
   "interpreter": {
    "hash": "dfd2a5afecea685298f8d29aea0ff5e7f3ac8235db3b49ae1636aa5994e0e9c4"
   }
  }
 },
 "nbformat": 4,
 "nbformat_minor": 2
}
